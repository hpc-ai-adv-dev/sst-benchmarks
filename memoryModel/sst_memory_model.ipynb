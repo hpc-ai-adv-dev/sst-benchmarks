{
 "cells": [
  {
   "cell_type": "markdown",
   "id": "0c33a697-8e89-4636-9b12-2f835cc1abd8",
   "metadata": {},
   "source": [
    "# SST Memory Model\n",
    "\n",
    "There are a few assumptions built into this model\n",
    "- There is only one type of component, which has no subcomponents\n",
    "- There is no use of SST's statistics features\n",
    "- If this is modeling a parallel run, that parallel run is using --parallel-load=SINGLE of a Python configuration file\n",
    "\n",
    "## Threats to validity and other notes:\n",
    "\n",
    "- I model data spent on vectors by multiplying by their size (usually the number of components or links). However, some space might get wasted by capacity.\n",
    "  - Although because of demand paging maybe that's not a huge concern.\n",
    "- This model is not accounting for storage spent on in-flight events. It's only acccounting for the cost of the model (components and links).\n",
    "- The model will not account for memory fragmentation"
   ]
  },
  {
   "cell_type": "markdown",
   "id": "271ca232-90a2-4ee4-a89d-1adfc748f0e1",
   "metadata": {},
   "source": [
    "## User supplied parameters to the model"
   ]
  },
  {
   "cell_type": "code",
   "execution_count": 15,
   "id": "5abf1f3e-402c-4aab-9fd4-e865a8a7f9c8",
   "metadata": {},
   "outputs": [],
   "source": [
    "numComps = 1000*1000\n",
    "numLinks = numComps*8\n",
    "numGhostComps = 0\n",
    "numCrossPartitionLinks = 0\n",
    "\n",
    "# Compiler\\environment specific values. You can compute these for your compiler using the following small C++ program:\n",
    "#\n",
    "#  #include <cstdio>\n",
    "#  #include <cstdint>\n",
    "#  #include <string>\n",
    "#  #include <vector>\n",
    "#  #include <map>\n",
    "#  #define S(LABEL, T) printf(\"sizeof_\" LABEL \" = %zu\\n\", sizeof(T));\n",
    "#  int main() { typedef std::map<int, int> map; S(\"int\", int); S(\"float\", float); S(\"double\", double); S(\"ptr\", void*);\n",
    "#    S(\"uintptr\", uintptr_t); S(\"string\", std::string); S(\"vector\", std::vector<int>); S(\"map\", map); return 0; }\n",
    "sizeof_int              = 4\n",
    "sizeof_float            = 4\n",
    "sizeof_double           = 8\n",
    "sizeof_ptr              = 8\n",
    "sizeof_uintptr          = 8\n",
    "sizeof_string           = 32\n",
    "sizeof_vector           = 24\n",
    "sizeof_map              = 48\n",
    "\n",
    "# SST uses several string identifiers stored as std::string objects. These identifiers will be embedded inside of the C++\n",
    "# string if they're less than the Small String Optimization (SSO) size. You can determine what this is for your compiler\n",
    "# with the following small program:\n",
    "#\n",
    "#  #include <iostream>\n",
    "#  #include <string>\n",
    "#  int main() { std::cout << \"sso_buf_size = \" << std::string().capacity() << std::endl; return 0; }\n",
    "sso_buf_size = 15\n",
    "\n",
    "# These values may be a little difficult to estimate, but are the values for `.capacity()` of strings supplied in the users\n",
    "# model configuration. If you expect these too all be less-than sso_buf_size you can set these to zero. Later in the script\n",
    "# we will reset these values to 0 if they're less-than sso_buf_size.\n",
    "avgStringCap_componentName = 0\n",
    "avgStringCap_componentType = 0\n",
    "avgStringCap_paramValue    = 0\n",
    "avgStringCap_linkName      = 0\n",
    "avgStringCap_portName      = 0\n",
    "avgStringCap_linkLatency   = 0\n",
    "\n",
    "# We need to account for data in the user-written component itself\n",
    "# Look at the header file for your component and sum all of the data members it stores. Also check to see if any data is\n",
    "# heap allocated (e.g. allocated using `new`) in the constructor. If there are event handlers allocated also account\n",
    "# for the 40 bytes each of those take.\n",
    "userComponentData = \\\n",
    "    12  * sizeof_int + sizeof_double + sizeof_float + sizeof_string + sizeof_vector + 11 * sizeof_ptr + 624 * sizeof_int + 40\n",
    "\n",
    "# This is the number of parameters the component takes in the SST_ELI_DOCUMENT_PARAMS macro\n",
    "numParamsInUserComponent = 13\n",
    "\n",
    "# Aside from the data stored for the key and value themselves, this value represents how much data std::map stores per element.\n",
    "# Most implementations are a red-black tree, and each node of the tree might have three pointers (to two children and the parent)\n",
    "# and a color value. Unfortunately I don't know of a way to easily compute this.\n",
    "cost_per_element_in_map   = 32\n",
    "\n",
    "# If you would like to model padding set these values. To determine this I compare the\n",
    "# difference reported by C++'s sizeof() operator and what one would expect from summing the sizeof()\n",
    "# each field in the datastructure. If you would like to do the same, set all these values to zero, run the notebook,\n",
    "# and then use the code in the cell at the end of this notebook\n",
    "paddingFor_rankInfo         =  0\n",
    "paddingFor_params           =  7\n",
    "paddingFor_configStatistics =  0 #22\n",
    "paddingFor_configComponent  =  54\n",
    "paddingFor_configLink       =  7\n",
    "paddingFor_componentInfo    =  18\n",
    "paddingFor_link             =  0"
   ]
  },
  {
   "cell_type": "markdown",
   "id": "9352b3cd-a269-4da2-a41b-b40506ce117c",
   "metadata": {},
   "source": [
    "# Parameterizing to certain benchmarks"
   ]
  },
  {
   "cell_type": "code",
   "execution_count": 16,
   "id": "3caa90fd-dc31-4535-83d0-3e24cb6af30f",
   "metadata": {},
   "outputs": [],
   "source": [
    "# Here are some parameter values for a handful of benchmarks. Set to '' if you don't\n",
    "# want to change the values from above\n",
    "\n",
    "model = ''\n",
    "\n",
    "#model = 'phold'\n",
    "#model = 'gol'\n",
    "#model = 'pp'\n",
    "#model = 'none'\n",
    "\n",
    "if model == 'phold':\n",
    "    numComps = 1000*1000\n",
    "    numLinks = (numComps*9)\n",
    "    numGhostComps = 0\n",
    "    numCrossPartitionLinks = 0\n",
    "    userComponentData = 12 * sizeof_int + sizeof_double + sizeof_float + sizeof_string + sizeof_vector + 11 * sizeof_ptr + 624 * sizeof_int + 40\n",
    "    numParamsInUserComponent = 13\n",
    "\n",
    "if model == 'gol':\n",
    "    numComps = 1000*1000\n",
    "    numLinks = (numComps*8)\n",
    "    numGhostComps = 0\n",
    "    numCrossPartitionLinks = 0\n",
    "    userComponentData = sizeof_int*2 + sizeof_ptr * 8 + 9 * 40\n",
    "    numParamsInUserComponent = 3\n",
    "  \n",
    "elif model == 'pp':\n",
    "    numComps = 1000*1000\n",
    "    numLinks = (numComps*4)\n",
    "    numGhostComps = 0\n",
    "    numCrossPartitionLinks = 0\n",
    "    userComponentData = 8*4 + sizeof_ptr * 4 + 4 * 40\n",
    "    numParamsInUserComponent = 4\n",
    "\n",
    "elif model == 'none':\n",
    "    numComps = 0\n",
    "    numLinks = 0\n",
    "    numGhostComps = 0\n",
    "    numCrossPartitionLinks = 0\n",
    "    userComponentData = 0\n",
    "    numParamsInUserComponent = 0"
   ]
  },
  {
   "cell_type": "markdown",
   "id": "9d59e811-66d8-484c-9331-0c825df70d05",
   "metadata": {},
   "source": [
    "### Clean up user parameters"
   ]
  },
  {
   "cell_type": "code",
   "execution_count": 17,
   "id": "a0c40fb2-ebac-4324-a3f7-a6f6f08ef2e0",
   "metadata": {},
   "outputs": [],
   "source": [
    "def zero_if_under_sso(value):\n",
    "    return 0 if value < sso_buf_size else value\n",
    "\n",
    "avgStringCap_componentName = zero_if_under_sso(avgStringCap_componentName)\n",
    "avgStringCap_componentType = zero_if_under_sso(avgStringCap_componentType)\n",
    "avgStringCap_paramValue    = zero_if_under_sso(avgStringCap_componentName)\n",
    "avgStringCap_linkName      = zero_if_under_sso(avgStringCap_linkName)\n",
    "avgStringCap_portName      = zero_if_under_sso(avgStringCap_portName)\n",
    "avgStringCap_linkLatency   = zero_if_under_sso(avgStringCap_linkLatency)"
   ]
  },
  {
   "cell_type": "markdown",
   "id": "6237abac-3927-46e3-9cbb-95053d073f26",
   "metadata": {},
   "source": [
    "## The Model Itself"
   ]
  },
  {
   "cell_type": "markdown",
   "id": "211c9790-bbb6-4562-b228-9f30a0a65d4d",
   "metadata": {},
   "source": [
    "### Misc. utility values and functions used in the remainder of the script:"
   ]
  },
  {
   "cell_type": "code",
   "execution_count": 18,
   "id": "82ad1329-78f7-4a3f-af06-b2ee31be4aa8",
   "metadata": {},
   "outputs": [],
   "source": [
    "sizeof_bool            = 1\n",
    "sizeof_uint8           = 1\n",
    "sizeof_uint16          = 2\n",
    "sizeof_uint32          = 4\n",
    "sizeof_uint64          = 8\n",
    "\n",
    "avgLinksPerComp = 0 if numComps == 0 else (numLinks/numComps)*2  # multiplied by 2 since links are directional in the sim representation\n",
    "\n",
    "def sumTupSeconds(iterable):\n",
    "    return sum(x[1] for x in iterable)\n",
    "\n",
    "def format_size(value_in_bytes, decimals=2):\n",
    "    if value_in_bytes == 0:\n",
    "        return \"0 Bytes\"\n",
    "    units = [\"B\", \"KB\", \"MB\", \"GB\", \"TB\", \"PB\", \"EB\", \"ZB\", \"YB\"]\n",
    "    power = 0\n",
    "    while value_in_bytes >= 1024 and power < len(units) - 1:\n",
    "        value_in_bytes /= 1024\n",
    "        power += 1\n",
    "    return f\"{value_in_bytes:.{decimals}f} {units[power]}\""
   ]
  },
  {
   "cell_type": "markdown",
   "id": "4b34216d-bbfd-44dc-a479-111cc2ef5408",
   "metadata": {},
   "source": [
    "### Size of relevant SST data structures"
   ]
  },
  {
   "cell_type": "code",
   "execution_count": 19,
   "id": "241e0aa2-2333-4f3f-a29d-2d2b4e40a166",
   "metadata": {},
   "outputs": [
    {
     "name": "stdout",
     "output_type": "stream",
     "text": [
      "Size of Params:           104\n",
      "Size of ConfigStatistic:  145\n",
      "Size of ConfigComponent:  638\n",
      "Size of ConfigLink:       216\n",
      "Size of ComponentInfo:    288\n",
      "Size of Link:             64\n",
      "Size of BaseComponent:    217\n"
     ]
    }
   ],
   "source": [
    "# I mark some string-based identifiers we may want to replace with ints with [1], and for [2]\n",
    "# I mark some statistics fields that we may want to remove for certain builds of SST (when\n",
    "# the user doesn't need them).\n",
    "\n",
    "sizeof_componentId_t   = sizeof_uint64\n",
    "sizeof_linkId_t        = sizeof_uint32\n",
    "sizeof_statisticId_t   = sizeof_uint64\n",
    "sizeof_simTime_t       = sizeof_uint64\n",
    "\n",
    "fields_rankInfo = [\n",
    "    ('rank'     , sizeof_uint32),\n",
    "    ('thread'   , sizeof_uint32),\n",
    "    ('(vtable)' , sizeof_ptr)]\n",
    "sizeof_rankInfo = sumTupSeconds(fields_rankInfo) + paddingFor_rankInfo\n",
    "\n",
    "fields_params = [\n",
    "    ('my_data'        , sizeof_map),\n",
    "    ('data'           , sizeof_vector),\n",
    "    ('allowedKeys'    , sizeof_vector),\n",
    "    ('verify_enabled' , sizeof_bool)]\n",
    "sizeof_params = sumTupSeconds(fields_params) + paddingFor_params\n",
    "\n",
    "fields_configStatistic = [\n",
    "    ('id'     , sizeof_statisticId_t),\n",
    "    ('params' , sizeof_params),\n",
    "    ('shared' , sizeof_bool),\n",
    "    ('name'   , sizeof_string)]   # [1]\n",
    "sizeof_configStatistic = sumTupSeconds(fields_configStatistic) + paddingFor_configStatistics\n",
    "\n",
    "fields_configComponent = [\n",
    "    ('id'               , sizeof_componentId_t),\n",
    "    ('graph'            , sizeof_ptr),\n",
    "    ('name'             , sizeof_string),  # [1]\n",
    "    ('slot_num'         , sizeof_int),\n",
    "    ('type'             , sizeof_string),  # [1]\n",
    "    ('weight'           , sizeof_float),\n",
    "    ('rank'             , sizeof_rankInfo),\n",
    "    ('links'            , sizeof_vector),\n",
    "    ('params'           , sizeof_params),\n",
    "    ('statLoadLevel'    , sizeof_uint8),   # [2]\n",
    "    ('portModules'      , sizeof_map),\n",
    "    ('enabledStatNames' , sizeof_map),     # [2]\n",
    "    ('enabledAllStats'  , sizeof_bool),    # [2]\n",
    "    ('allStatConfig'    , sizeof_configStatistic), # [2]\n",
    "    ('subComponents'    , sizeof_vector),\n",
    "    ('coords'           , sizeof_vector),\n",
    "    ('nextSubID'        , sizeof_uint16),\n",
    "    ('nextStatID'       , sizeof_uint16), # [2]\n",
    "    ('visited'          , sizeof_bool),\n",
    "    ('statistics'       , sizeof_map),    # [2]\n",
    "    ('(vtable)'         , sizeof_ptr)]\n",
    "sizeof_configComponent = sumTupSeconds(fields_configComponent) + paddingFor_configComponent\n",
    "\n",
    "fields_configLink = [\n",
    "    ('id'          , sizeof_linkId_t),\n",
    "    ('name'        , sizeof_string),  # [1]\n",
    "    ('component'   , 2*sizeof_componentId_t),\n",
    "    ('port'        , 2*sizeof_string), # [1]\n",
    "    ('latency'     , 2*sizeof_simTime_t),\n",
    "    ('latency_str' , 2*sizeof_string),\n",
    "    ('order'       , sizeof_linkId_t),\n",
    "    ('no_cut'      , sizeof_bool),\n",
    "    ('(vtable)'    , sizeof_ptr)]\n",
    "sizeof_configLink = sumTupSeconds(fields_configLink) + paddingFor_configLink\n",
    "\n",
    "fields_componentInfo = [\n",
    "    ('id'                  , sizeof_componentId_t),\n",
    "    ('parent_info'         , sizeof_ptr),\n",
    "    ('name'                , sizeof_string), # [1]\n",
    "    ('type'                , sizeof_string), # [1]\n",
    "    ('link_map'            , sizeof_ptr),\n",
    "    ('component'           , sizeof_ptr),\n",
    "    ('subComponents'       , sizeof_map),\n",
    "    ('params'              , sizeof_ptr),\n",
    "    ('defaultTimeBase'     , sizeof_ptr),\n",
    "    ('portModules'         , sizeof_ptr),\n",
    "    ('stat_configs_'       , sizeof_ptr),   # [2]\n",
    "    ('enabled_stat_names_' , sizeof_ptr),   # [2]\n",
    "    ('enabled_all_stats_'  , sizeof_bool),  # [2]\n",
    "    ('all_stat_config_'    , sizeof_ptr),   # [2]\n",
    "    ('statLoadLevel'       , sizeof_uint8), # [2]\n",
    "    ('coordinates'         , sizeof_vector),\n",
    "    ('subIDIndex'          , sizeof_uint64),\n",
    "    ('slot_name'           , sizeof_string),\n",
    "    ('slot_num'            , sizeof_int),\n",
    "    ('share_flags'         , sizeof_uint64)]\n",
    "sizeof_componentInfo = sumTupSeconds(fields_componentInfo) + paddingFor_componentInfo\n",
    "\n",
    "fields_link = [\n",
    "    ('send_queue'      , sizeof_ptr),\n",
    "    ('delivery_info'   , sizeof_uintptr),\n",
    "    ('defaultTimeBase' , sizeof_simTime_t),\n",
    "    ('latency'         , sizeof_simTime_t),\n",
    "    ('pair_link'       , sizeof_ptr),\n",
    "    ('current_time'    , sizeof_ptr),\n",
    "    ('type'            , sizeof_uint16),\n",
    "    ('mode'            , sizeof_uint16),\n",
    "    ('tag'             , sizeof_linkId_t),\n",
    "    ('attached_tools'  , sizeof_ptr)]\n",
    "sizeof_link = sumTupSeconds(fields_link) + paddingFor_link\n",
    "\n",
    "fields_baseComponent = [\n",
    "    ('my_info'                        , sizeof_ptr),\n",
    "    ('sim_'                           , sizeof_ptr),\n",
    "    ('isExtension'                    , sizeof_bool),\n",
    "    ('clock_handlers'                 , sizeof_vector),\n",
    "    ('portModules'                    , sizeof_vector),\n",
    "    ('m_explicitlyEnabledSharedStats' , sizeof_map),\n",
    "    ('m_explicitlyEnabledUniqueStats' , sizeof_map),\n",
    "    ('m_enabled_all_stats_'           , sizeof_map),\n",
    "    ('(vtable)'                       , sizeof_ptr)]\n",
    "sizeof_baseComponent = sumTupSeconds(fields_baseComponent)\n",
    "\n",
    "print(\"Size of Params:          \", sizeof_params)\n",
    "print(\"Size of ConfigStatistic: \", sizeof_configStatistic)\n",
    "print(\"Size of ConfigComponent: \", sizeof_configComponent)\n",
    "print(\"Size of ConfigLink:      \", sizeof_configLink)\n",
    "print(\"Size of ComponentInfo:   \", sizeof_componentInfo)\n",
    "print(\"Size of Link:            \", sizeof_link)\n",
    "print(\"Size of BaseComponent:   \", sizeof_baseComponent)"
   ]
  },
  {
   "cell_type": "markdown",
   "id": "b36e7313-1222-4884-80ff-5853ab438063",
   "metadata": {},
   "source": [
    "### Pointed to data from key structures"
   ]
  },
  {
   "cell_type": "code",
   "execution_count": 20,
   "id": "26f4f74b-b928-44b2-a943-cdabf896b50d",
   "metadata": {},
   "outputs": [
    {
     "name": "stdout",
     "output_type": "stream",
     "text": [
      "Average heap data for params:             120\n",
      "Average heap data for config components:  208.0\n",
      "Average heap data for config links:       0\n",
      "Average heap data for componentInfos:     643.0\n",
      "Average heap data in config graph per component:  80\n",
      "Average heap data in config graph per link:       8\n"
     ]
    }
   ],
   "source": [
    "pointedToFieldsAvgs_params = [\n",
    "    ('my_data' , 0),\n",
    "\n",
    "    # my_data is a map of (integer) keys to string values. We model the data for these values here\n",
    "    ('my_data.string' , 0),\n",
    "\n",
    "    # What this data field is used for is a bit of a mystery to me. I'm thinking maybe it somehow\n",
    "    # relates to subcomponents? Anyway, for ping pong we only see one entry for this so I'm going\n",
    "    # to model that, that's the case in general.\n",
    "    ('data', 1 * sizeof_ptr),\n",
    "\n",
    "    # I'm assuming each pointed to map in data is unique so this accounts for the cost of allocating\n",
    "    # those maps\n",
    "    ('data.maps', 1 * sizeof_map + sizeof_string + cost_per_element_in_map),\n",
    "\n",
    "    # and this represents the cost of the strings within those maps\n",
    "    ('data.maps.strings',  numParamsInUserComponent * avgStringCap_paramValue),\n",
    "    \n",
    "    ('allowedKeys', 0)]\n",
    "heapDataAvgFor_params = sumTupSeconds(pointedToFieldsAvgs_params)\n",
    "\n",
    "pointedToFieldsAvgs_configComp = [\n",
    "    ('name',   avgStringCap_componentName),\n",
    "    ('type',   avgStringCap_componentType),\n",
    "    ('links',  avgLinksPerComp * sizeof_uint32),\n",
    "    ('params', heapDataAvgFor_params),\n",
    "    ('coords', 3 * sizeof_uint64)]\n",
    "heapDataAvgFor_configComp = sumTupSeconds(pointedToFieldsAvgs_configComp)\n",
    "\n",
    "pointedToFieldsAvgs_configLink = [\n",
    "    ('name',        avgStringCap_linkName),\n",
    "    ('port',        2 * avgStringCap_portName),\n",
    "    ('latency_str', 2 * avgStringCap_linkLatency)]\n",
    "heapDataAvgFor_configLink = sumTupSeconds(pointedToFieldsAvgs_configLink)\n",
    "\n",
    "# This accounts for pointed-to data in the ConfigGraph where we have one instance of each per component.\n",
    "# Note, one threat to validity is that (later on) we should really be multiplying by the capacity of 'comps'\n",
    "# rather than the number of components.\n",
    "pointedToFieldsAvgs_perComponent_configGraph = [\n",
    "    ('comps'       , sizeof_ptr),\n",
    "    ('compsByName' , sizeof_string + sizeof_componentId_t + cost_per_element_in_map),\n",
    "\n",
    "    # This accounts for the data stored for the string values used as the keys of `compsByName`\n",
    "    ('compsByName.string' , avgStringCap_componentName)]\n",
    "heapDataAvgPerComponentFor_configGraph = sumTupSeconds(pointedToFieldsAvgs_perComponent_configGraph)\n",
    "\n",
    "# And similiarly, this accounts for pointed-to data in the ConfigGraph where we have one instance of\n",
    "# each per link.\n",
    "pointedToFieldsAvgs_perLink_configGraph = [\n",
    "    ('links',       sizeof_ptr)]\n",
    "heapDataAvgPerLinkFor_configGraph = sumTupSeconds(pointedToFieldsAvgs_perLink_configGraph)\n",
    "\n",
    "pointedToFieldsAvgs_componentInfo = [\n",
    "    ('name',             avgStringCap_componentName),\n",
    "    ('type',             avgStringCap_componentType),\n",
    "    ('link_map type',    48),\n",
    "    ('link_map content', 59 + avgLinksPerComp * cost_per_element_in_map),\n",
    "    ('params',           0),\n",
    "    ('coordinates',      3 * sizeof_uint64)]\n",
    "heapDataAvgFor_componentInfo = sumTupSeconds(pointedToFieldsAvgs_componentInfo)\n",
    "\n",
    "print(\"Average heap data for params:            \", heapDataAvgFor_params)\n",
    "print(\"Average heap data for config components: \", heapDataAvgFor_configComp)\n",
    "print(\"Average heap data for config links:      \", heapDataAvgFor_configLink)\n",
    "print(\"Average heap data for componentInfos:    \", heapDataAvgFor_componentInfo)\n",
    "print(\"Average heap data in config graph per component: \", heapDataAvgPerComponentFor_configGraph)\n",
    "print(\"Average heap data in config graph per link:      \", heapDataAvgPerLinkFor_configGraph)"
   ]
  },
  {
   "cell_type": "markdown",
   "id": "29a4e4bb-a6b9-4427-a033-12d634c060a9",
   "metadata": {},
   "source": [
    "---"
   ]
  },
  {
   "cell_type": "markdown",
   "id": "c281a4b3-597c-48ed-aff9-549d494c4983",
   "metadata": {},
   "source": [
    "## Results from Model"
   ]
  },
  {
   "cell_type": "markdown",
   "id": "b45853e6-0ff2-4257-a03a-baa6a4901910",
   "metadata": {},
   "source": [
    "### Graph Construction"
   ]
  },
  {
   "cell_type": "code",
   "execution_count": 21,
   "id": "d43eea1a-a36c-4dcc-98bc-77ee28f59733",
   "metadata": {
    "panel-layout": {
     "height": 0,
     "visible": true,
     "width": 100
    }
   },
   "outputs": [
    {
     "name": "stdout",
     "output_type": "stream",
     "text": [
      "Expected memory per component:  926.0\n",
      "Expected memory per link:       224\n"
     ]
    }
   ],
   "source": [
    "gc_mem_per_comp = sizeof_configComponent + heapDataAvgFor_configComp + heapDataAvgPerComponentFor_configGraph\n",
    "gc_mem_per_link = sizeof_configLink      + heapDataAvgFor_configLink + heapDataAvgPerLinkFor_configGraph\n",
    "\n",
    "gc_mem_per_ghost_comp = sizeof_configComponent + heapDataAvgPerComponentFor_configGraph\n",
    "gc_mem_per_ghost_link = sizeof_configLink      + heapDataAvgPerLinkFor_configGraph\n",
    "\n",
    "print(\"Expected memory per component: \", gc_mem_per_comp)\n",
    "print(\"Expected memory per link:      \", gc_mem_per_link)"
   ]
  },
  {
   "cell_type": "markdown",
   "id": "2ef473aa-9ec1-446b-b49f-8bdf3ac1a919",
   "metadata": {},
   "source": [
    "### Link Preparation"
   ]
  },
  {
   "cell_type": "code",
   "execution_count": 22,
   "id": "430ae8ba-0d43-48e3-982a-6f2bc75da793",
   "metadata": {},
   "outputs": [
    {
     "name": "stdout",
     "output_type": "stream",
     "text": [
      "Expected memory per componentInfo:  931.0\n",
      "Expected memory per link:           64\n"
     ]
    }
   ],
   "source": [
    "lp_mem_per_comp = sizeof_componentInfo + heapDataAvgFor_componentInfo\n",
    "lp_mem_per_link = sizeof_link\n",
    "lp_mem_per_ghost_link = sizeof_link\n",
    "\n",
    "print(\"Expected memory per componentInfo: \", lp_mem_per_comp)\n",
    "print(\"Expected memory per link:          \", lp_mem_per_link)"
   ]
  },
  {
   "cell_type": "markdown",
   "id": "2b422b38-61db-4c9a-a562-1ba41e6aff78",
   "metadata": {},
   "source": [
    "### Wireup"
   ]
  },
  {
   "cell_type": "code",
   "execution_count": 23,
   "id": "2611c396-1c43-4e94-8aa2-5c9767151727",
   "metadata": {},
   "outputs": [
    {
     "name": "stdout",
     "output_type": "stream",
     "text": [
      "Expected memory per simulated component:  2957\n"
     ]
    }
   ],
   "source": [
    "# This class might be padded, I'm not accounting for that\n",
    "memPer_simulatedComponent = sizeof_baseComponent + userComponentData\n",
    "\n",
    "print('Expected memory per simulated component: ', memPer_simulatedComponent)"
   ]
  },
  {
   "cell_type": "markdown",
   "id": "6c18c32e-e521-440c-8363-09129ca84566",
   "metadata": {},
   "source": [
    "## Toy models for each representation"
   ]
  },
  {
   "cell_type": "code",
   "execution_count": 24,
   "id": "dd9d90b7-13f5-4412-9c5e-9337ccefe65c",
   "metadata": {},
   "outputs": [
    {
     "name": "stdout",
     "output_type": "stream",
     "text": [
      "If we just account for config representation:\n",
      "  926.0 * numComps  + 224 * numLinks + 718 * numGComps + 224 * numGLinks (2.53 GB)\n",
      "\n",
      "If we just account for simulation representation:\n",
      "  3,888.0 * numComps  + 128 * numLinks + 0 * numGComps + 128 * numGLinks (4.57 GB)\n",
      "\n"
     ]
    }
   ],
   "source": [
    "# This cell uses what we built for the model above to boil things down to a simple equation based on number of\n",
    "# components and links for each representation.\n",
    "\n",
    "cfgMemPerComp = gc_mem_per_comp\n",
    "cfgMemPerLink = gc_mem_per_link\n",
    "cfgMemPerDComp = gc_mem_per_ghost_comp\n",
    "cfgMemPerDLink = gc_mem_per_ghost_link\n",
    "cfgEstimate = (cfgMemPerComp * numComps) + (cfgMemPerLink * numLinks) + (cfgMemPerDComp * numGhostComps) + (cfgMemPerDLink * numCrossPartitionLinks)\n",
    "print(\"If we just account for config representation:\")\n",
    "print(f\"  {cfgMemPerComp:,} * numComps  + {cfgMemPerLink:,} * numLinks + {cfgMemPerDComp:,} * numGComps + {cfgMemPerDLink:,} * numGLinks ({format_size(cfgEstimate)})\")\n",
    "print()\n",
    "\n",
    "simMemPerComp  = lp_mem_per_comp + memPer_simulatedComponent\n",
    "simMemPerLink  = lp_mem_per_link*2\n",
    "simMemPerDComp = 0\n",
    "simMemPerDLink = lp_mem_per_ghost_link*2\n",
    "simEstimate = (simMemPerComp * numComps) + (simMemPerLink * numLinks) + (simMemPerDComp * numGhostComps) + (simMemPerDLink * numCrossPartitionLinks)\n",
    "print(\"If we just account for simulation representation:\")\n",
    "print(f\"  {simMemPerComp:,} * numComps  + {simMemPerLink:,} * numLinks + {simMemPerDComp:,} * numGComps + {simMemPerDLink:,} * numGLinks ({format_size(simEstimate)})\")\n",
    "print()"
   ]
  },
  {
   "cell_type": "markdown",
   "id": "d2799d40-5274-4965-8c09-78e9d12f905a",
   "metadata": {},
   "source": [
    "## Overall toy model"
   ]
  },
  {
   "cell_type": "code",
   "execution_count": 25,
   "id": "1d7e6c3b-c636-428d-bba2-fd7f732190df",
   "metadata": {},
   "outputs": [
    {
     "name": "stdout",
     "output_type": "stream",
     "text": [
      "\n",
      "# EQUATION FOR MODELING SST MEMORY HIGH-WATER MARK:\n",
      "\n",
      "    4,814.0 * numComps  + 352 * numLinks + 718 * numGComps + 352 * numGLinks (7.11 GB)\n",
      "\n"
     ]
    }
   ],
   "source": [
    "memPerComp  = cfgMemPerComp  + simMemPerComp\n",
    "memPerLink  = cfgMemPerLink  + simMemPerLink\n",
    "memPerDComp = cfgMemPerDComp + simMemPerDComp\n",
    "memPerDLink = cfgMemPerDLink + simMemPerDLink\n",
    "estimate    = (memPerComp * numComps) + (memPerLink * numLinks) + (memPerDComp * numGhostComps) + (memPerDLink * numCrossPartitionLinks)\n",
    "\n",
    "print()\n",
    "print(\"# EQUATION FOR MODELING SST MEMORY HIGH-WATER MARK:\\n\")\n",
    "print(f\"    {memPerComp:,} * numComps  + {memPerLink:,} * numLinks + {memPerDComp:,} * numGComps + {memPerDLink:,} * numGLinks ({format_size(estimate)})\")\n",
    "print()"
   ]
  },
  {
   "cell_type": "markdown",
   "id": "0728d391-b3eb-4c57-b91f-19e755a2fc5c",
   "metadata": {},
   "source": [
    "---"
   ]
  },
  {
   "cell_type": "markdown",
   "id": "c570b0d2-4997-4412-adb5-bfca5f365488",
   "metadata": {
    "jp-MarkdownHeadingCollapsed": true
   },
   "source": [
    "# How to compute padding"
   ]
  },
  {
   "cell_type": "code",
   "execution_count": 26,
   "id": "3a134745-2ccf-4bcc-a261-2370ec356c2c",
   "metadata": {},
   "outputs": [
    {
     "name": "stdout",
     "output_type": "stream",
     "text": [
      "paddingFor_rankInfo         =  0\n",
      "paddingFor_params           =  7\n",
      "paddingFor_configStatistics =  15\n",
      "paddingFor_configComponent  =  40\n",
      "paddingFor_configLink       =  7\n",
      "paddingFor_componentInfo    =  18\n",
      "paddingFor_link             =  0\n"
     ]
    }
   ],
   "source": [
    "# Find the main function in `src/sst/core/main.cc` and add the following code:\n",
    "#\n",
    "#   std::cout << \"real_sizeof_rankInfo        = \" << sizeof(RankInfo)        << std::endl;\n",
    "#   std::cout << \"real_sizeof_params          = \" << sizeof(Params)          << std::endl;\n",
    "#   std::cout << \"real_sizeof_configStatistic = \" << sizeof(ConfigStatistic) << std::endl;\n",
    "#   std::cout << \"real_sizeof_configComponent = \" << sizeof(ConfigComponent) << std::endl;\n",
    "#   std::cout << \"real_sizeof_configLink      = \" << sizeof(ConfigLink)      << std::endl;\n",
    "#   std::cout << \"real_sizeof_componentInfo   = \" << sizeof(ComponentInfo)   << std::endl;\n",
    "#   std::cout << \"real_sizeof_link            = \" << sizeof(Link)            << std::endl;\n",
    "#   return 0\n",
    "#\n",
    "# Then recompile sst and simply run it. To populate the \"real\" values below:\n",
    "real_sizeof_rankInfo        = 16\n",
    "real_sizeof_params          = 104\n",
    "real_sizeof_configStatistic = 160\n",
    "real_sizeof_configComponent = 624\n",
    "real_sizeof_configLink      = 216\n",
    "real_sizeof_componentInfo   = 288\n",
    "real_sizeof_link            = 64\n",
    "\n",
    "# Take the result of the following and copy and paste them into the top of the script\n",
    "print(\"paddingFor_rankInfo         = \", real_sizeof_rankInfo        - sumTupSeconds(fields_rankInfo))\n",
    "print(\"paddingFor_params           = \", real_sizeof_params          - sumTupSeconds(fields_params))\n",
    "print(\"paddingFor_configStatistics = \", real_sizeof_configStatistic - sumTupSeconds(fields_configStatistic))\n",
    "print(\"paddingFor_configComponent  = \", real_sizeof_configComponent - sumTupSeconds(fields_configComponent))\n",
    "print(\"paddingFor_configLink       = \", real_sizeof_configLink      - sumTupSeconds(fields_configLink))\n",
    "print(\"paddingFor_componentInfo    = \", real_sizeof_componentInfo   - sumTupSeconds(fields_componentInfo))\n",
    "print(\"paddingFor_link             = \", real_sizeof_link            - sumTupSeconds(fields_link))"
   ]
  }
 ],
 "metadata": {
  "kernelspec": {
   "display_name": "Python 3 (ipykernel)",
   "language": "python",
   "name": "python3"
  },
  "language_info": {
   "codemirror_mode": {
    "name": "ipython",
    "version": 3
   },
   "file_extension": ".py",
   "mimetype": "text/x-python",
   "name": "python",
   "nbconvert_exporter": "python",
   "pygments_lexer": "ipython3",
   "version": "3.12.7"
  },
  "panel-cell-order": [
   "d43eea1a-a36c-4dcc-98bc-77ee28f59733",
   "d793681a-eb21-430b-a2b6-e76b4b943da0"
  ]
 },
 "nbformat": 4,
 "nbformat_minor": 5
}
